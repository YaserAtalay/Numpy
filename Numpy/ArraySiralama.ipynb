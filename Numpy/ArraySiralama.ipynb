{
 "cells": [
  {
   "cell_type": "markdown",
   "id": "ef9bfcef-7f38-45e2-889a-a1a2298c4700",
   "metadata": {},
   "source": [
    "# Array Sıralama (Sorting)"
   ]
  },
  {
   "cell_type": "code",
   "execution_count": 1,
   "id": "13a6f5c1-8b68-4045-801d-e5fa1619e5a3",
   "metadata": {},
   "outputs": [],
   "source": [
    "import numpy as np"
   ]
  },
  {
   "cell_type": "code",
   "execution_count": 2,
   "id": "16f4f854-1590-458f-9286-c45907ebf819",
   "metadata": {},
   "outputs": [],
   "source": [
    "v = np.array([5,7,2,3,4,9,2,1,8])"
   ]
  },
  {
   "cell_type": "code",
   "execution_count": 3,
   "id": "9bb99b8b-ae00-4ddc-b482-9789f782243a",
   "metadata": {},
   "outputs": [
    {
     "data": {
      "text/plain": [
       "array([5, 7, 2, 3, 4, 9, 2, 1, 8])"
      ]
     },
     "execution_count": 3,
     "metadata": {},
     "output_type": "execute_result"
    }
   ],
   "source": [
    "v"
   ]
  },
  {
   "cell_type": "code",
   "execution_count": 8,
   "id": "fed66652-09b1-4057-8945-617024d6ae5e",
   "metadata": {},
   "outputs": [
    {
     "data": {
      "text/plain": [
       "array([1, 2, 2, 3, 4, 5, 7, 8, 9])"
      ]
     },
     "execution_count": 8,
     "metadata": {},
     "output_type": "execute_result"
    }
   ],
   "source": [
    "np.sort(v) #np ile sagrildiginda orjinal yapiyi bozmadi"
   ]
  },
  {
   "cell_type": "code",
   "execution_count": 7,
   "id": "8cb7e5d2-56c2-4b85-b5ee-3d29abafe43a",
   "metadata": {},
   "outputs": [],
   "source": [
    "v.sort() #Bu sekilde yapilinca orjinal yapiyi bozdu"
   ]
  },
  {
   "cell_type": "code",
   "execution_count": 6,
   "id": "cfdcfd8d-58ea-45a4-80a6-2455913ad68e",
   "metadata": {},
   "outputs": [
    {
     "data": {
      "text/plain": [
       "array([1, 2, 2, 3, 4, 5, 7, 8, 9])"
      ]
     },
     "execution_count": 6,
     "metadata": {},
     "output_type": "execute_result"
    }
   ],
   "source": [
    "v"
   ]
  },
  {
   "cell_type": "markdown",
   "id": "220fc408-92ca-442c-9bcc-f0cc76cc7901",
   "metadata": {},
   "source": [
    "## İki boyutlu arraylerde sıralama işlemi"
   ]
  },
  {
   "cell_type": "code",
   "execution_count": 10,
   "id": "a7f06c67-8030-459c-907f-c79dd093c5ad",
   "metadata": {},
   "outputs": [],
   "source": [
    "m = np.random.normal(20,5,(3,3))"
   ]
  },
  {
   "cell_type": "code",
   "execution_count": 12,
   "id": "7445b3d2-be38-48ab-b4fe-49e607ee7be8",
   "metadata": {},
   "outputs": [
    {
     "data": {
      "text/plain": [
       "array([[23.41937516, 28.46724451, 19.19852065],\n",
       "       [21.17895364, 18.67878083, 19.27847799],\n",
       "       [32.73012481, 22.5495746 , 26.73589219]])"
      ]
     },
     "execution_count": 12,
     "metadata": {},
     "output_type": "execute_result"
    }
   ],
   "source": [
    "m"
   ]
  },
  {
   "cell_type": "code",
   "execution_count": 16,
   "id": "d57b0c08-9004-4e99-b8e8-1f3fdc21f8fa",
   "metadata": {},
   "outputs": [
    {
     "data": {
      "text/plain": [
       "array([[19.19852065, 23.41937516, 28.46724451],\n",
       "       [18.67878083, 19.27847799, 21.17895364],\n",
       "       [22.5495746 , 26.73589219, 32.73012481]])"
      ]
     },
     "execution_count": 16,
     "metadata": {},
     "output_type": "execute_result"
    }
   ],
   "source": [
    "np.sort(m, axis = 1) #Satirlara göre siralama"
   ]
  },
  {
   "cell_type": "code",
   "execution_count": 15,
   "id": "ef3566c2-552b-4e15-a949-abb69f515be0",
   "metadata": {},
   "outputs": [
    {
     "data": {
      "text/plain": [
       "array([[21.17895364, 18.67878083, 19.19852065],\n",
       "       [23.41937516, 22.5495746 , 19.27847799],\n",
       "       [32.73012481, 28.46724451, 26.73589219]])"
      ]
     },
     "execution_count": 15,
     "metadata": {},
     "output_type": "execute_result"
    }
   ],
   "source": [
    "np.sort(m, axis = 0) # Sutunlara göre siralama"
   ]
  },
  {
   "cell_type": "code",
   "execution_count": null,
   "id": "482e2e71-6e99-4a2e-8690-db95d4dfcc62",
   "metadata": {},
   "outputs": [],
   "source": []
  }
 ],
 "metadata": {
  "kernelspec": {
   "display_name": "Python 3 (ipykernel)",
   "language": "python",
   "name": "python3"
  },
  "language_info": {
   "codemirror_mode": {
    "name": "ipython",
    "version": 3
   },
   "file_extension": ".py",
   "mimetype": "text/x-python",
   "name": "python",
   "nbconvert_exporter": "python",
   "pygments_lexer": "ipython3",
   "version": "3.9.13"
  }
 },
 "nbformat": 4,
 "nbformat_minor": 5
}
