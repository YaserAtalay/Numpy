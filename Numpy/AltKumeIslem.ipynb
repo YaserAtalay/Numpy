{
 "cells": [
  {
   "cell_type": "markdown",
   "id": "bb8dbc73-8204-4387-a04a-553d5063a83a",
   "metadata": {},
   "source": [
    "# Alt küme Üzerinde İslem Yapmak"
   ]
  },
  {
   "cell_type": "code",
   "execution_count": 2,
   "id": "ce849a98-3892-443b-a469-49954d823e7a",
   "metadata": {},
   "outputs": [],
   "source": [
    "import numpy as np"
   ]
  },
  {
   "cell_type": "code",
   "execution_count": 3,
   "id": "3a3db2f4-c955-4da2-8eb6-a0c039fd2c3a",
   "metadata": {},
   "outputs": [
    {
     "data": {
      "text/plain": [
       "array([[6, 1, 0, 0, 5],\n",
       "       [7, 3, 9, 5, 1],\n",
       "       [6, 8, 9, 8, 4],\n",
       "       [2, 5, 5, 5, 3],\n",
       "       [3, 5, 6, 4, 3]])"
      ]
     },
     "execution_count": 3,
     "metadata": {},
     "output_type": "execute_result"
    }
   ],
   "source": [
    "a = np.random.randint(10, size = (5,5))\n",
    "a"
   ]
  },
  {
   "cell_type": "code",
   "execution_count": 4,
   "id": "30d83e11-1589-4ac7-b96e-96f222e33ea4",
   "metadata": {},
   "outputs": [
    {
     "data": {
      "text/plain": [
       "array([[6, 1],\n",
       "       [7, 3],\n",
       "       [6, 8]])"
      ]
     },
     "execution_count": 4,
     "metadata": {},
     "output_type": "execute_result"
    }
   ],
   "source": [
    "alt_a = a[0:3,0:2]\n",
    "alt_a"
   ]
  },
  {
   "cell_type": "code",
   "execution_count": 5,
   "id": "5d6af701-3188-4862-8d5c-e9ecd6c04955",
   "metadata": {},
   "outputs": [],
   "source": [
    "alt_a[0,0] = 9999\n",
    "alt_a[1,1] = 8888"
   ]
  },
  {
   "cell_type": "code",
   "execution_count": 6,
   "id": "71735139-93fc-49d1-ba8b-095505f5a7dc",
   "metadata": {},
   "outputs": [
    {
     "data": {
      "text/plain": [
       "array([[9999,    1],\n",
       "       [   7, 8888],\n",
       "       [   6,    8]])"
      ]
     },
     "execution_count": 6,
     "metadata": {},
     "output_type": "execute_result"
    }
   ],
   "source": [
    "alt_a"
   ]
  },
  {
   "cell_type": "code",
   "execution_count": 8,
   "id": "b329c19f-9602-4fba-837a-4e22928967c7",
   "metadata": {},
   "outputs": [
    {
     "data": {
      "text/plain": [
       "array([[9999,    1,    0,    0,    5],\n",
       "       [   7, 8888,    9,    5,    1],\n",
       "       [   6,    8,    9,    8,    4],\n",
       "       [   2,    5,    5,    5,    3],\n",
       "       [   3,    5,    6,    4,    3]])"
      ]
     },
     "execution_count": 8,
     "metadata": {},
     "output_type": "execute_result"
    }
   ],
   "source": [
    "a #alt kumede yaptigimiz degisiklik ana kumeye de etki etmis onu goruyoruz"
   ]
  },
  {
   "cell_type": "code",
   "execution_count": 9,
   "id": "bd747170-859f-4803-b5d1-f405e218a601",
   "metadata": {},
   "outputs": [
    {
     "data": {
      "text/plain": [
       "array([[5, 8, 7, 9, 8],\n",
       "       [8, 0, 6, 5, 3],\n",
       "       [9, 3, 8, 5, 3],\n",
       "       [6, 8, 0, 7, 7],\n",
       "       [7, 7, 7, 3, 9]])"
      ]
     },
     "execution_count": 9,
     "metadata": {},
     "output_type": "execute_result"
    }
   ],
   "source": [
    "m = np.random.randint(10, size = (5,5))\n",
    "m"
   ]
  },
  {
   "cell_type": "code",
   "execution_count": 16,
   "id": "b48db8ee-69b8-4a6f-b414-2ee97995cb80",
   "metadata": {},
   "outputs": [],
   "source": [
    "alt_m = m[0:3, 0:2].copy() #copy ile yaparsak ana kumeden bagimsizlasir"
   ]
  },
  {
   "cell_type": "code",
   "execution_count": 17,
   "id": "4c617797-5654-4f3a-9ec9-eeaec01c199d",
   "metadata": {},
   "outputs": [
    {
     "data": {
      "text/plain": [
       "array([[5, 8],\n",
       "       [8, 0],\n",
       "       [9, 3]])"
      ]
     },
     "execution_count": 17,
     "metadata": {},
     "output_type": "execute_result"
    }
   ],
   "source": [
    "alt_m"
   ]
  },
  {
   "cell_type": "code",
   "execution_count": 18,
   "id": "3539c0ee-83cd-4d96-bd23-1fd98224e737",
   "metadata": {},
   "outputs": [],
   "source": [
    "alt_m[0,0] = 9999\n",
    "alt_m[1,1] = 8888"
   ]
  },
  {
   "cell_type": "code",
   "execution_count": 19,
   "id": "dbc17bbd-4687-4b49-b1a7-f892cc94fedc",
   "metadata": {},
   "outputs": [
    {
     "data": {
      "text/plain": [
       "array([[9999,    8],\n",
       "       [   8, 8888],\n",
       "       [   9,    3]])"
      ]
     },
     "execution_count": 19,
     "metadata": {},
     "output_type": "execute_result"
    }
   ],
   "source": [
    "alt_m"
   ]
  },
  {
   "cell_type": "code",
   "execution_count": 20,
   "id": "ca8da4bb-9522-4975-82fd-a8a12635b8c4",
   "metadata": {},
   "outputs": [
    {
     "data": {
      "text/plain": [
       "array([[5, 8, 7, 9, 8],\n",
       "       [8, 0, 6, 5, 3],\n",
       "       [9, 3, 8, 5, 3],\n",
       "       [6, 8, 0, 7, 7],\n",
       "       [7, 7, 7, 3, 9]])"
      ]
     },
     "execution_count": 20,
     "metadata": {},
     "output_type": "execute_result"
    }
   ],
   "source": [
    "m"
   ]
  },
  {
   "cell_type": "code",
   "execution_count": null,
   "id": "5412e405-56c5-4659-bcf1-325c9b4c8b5d",
   "metadata": {},
   "outputs": [],
   "source": []
  }
 ],
 "metadata": {
  "kernelspec": {
   "display_name": "Python 3 (ipykernel)",
   "language": "python",
   "name": "python3"
  },
  "language_info": {
   "codemirror_mode": {
    "name": "ipython",
    "version": 3
   },
   "file_extension": ".py",
   "mimetype": "text/x-python",
   "name": "python",
   "nbconvert_exporter": "python",
   "pygments_lexer": "ipython3",
   "version": "3.9.13"
  }
 },
 "nbformat": 4,
 "nbformat_minor": 5
}
