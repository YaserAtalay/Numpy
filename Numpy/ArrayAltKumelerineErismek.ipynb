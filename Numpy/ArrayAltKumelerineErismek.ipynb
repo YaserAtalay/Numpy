{
 "cells": [
  {
   "cell_type": "markdown",
   "id": "85054d82-5b3d-41d4-a6c0-0579e060ba9c",
   "metadata": {},
   "source": [
    "# Slicing ile Elemanlara Erişmek (Array alt kümelerine Erişmek)"
   ]
  },
  {
   "cell_type": "code",
   "execution_count": 1,
   "id": "63fb684d-8ae4-45a3-ab58-30ddb4c8299b",
   "metadata": {},
   "outputs": [],
   "source": [
    "import numpy as np"
   ]
  },
  {
   "cell_type": "code",
   "execution_count": 2,
   "id": "d436253f-5e2c-4d32-b6de-b8c92b887d8d",
   "metadata": {},
   "outputs": [
    {
     "data": {
      "text/plain": [
       "array([20, 21, 22, 23, 24, 25, 26, 27, 28, 29])"
      ]
     },
     "execution_count": 2,
     "metadata": {},
     "output_type": "execute_result"
    }
   ],
   "source": [
    "a = np.arange(20,30)\n",
    "a"
   ]
  },
  {
   "cell_type": "code",
   "execution_count": 3,
   "id": "c9bf3c21-f32d-4617-9447-b75d87a2f0d8",
   "metadata": {},
   "outputs": [
    {
     "data": {
      "text/plain": [
       "array([20, 21, 22])"
      ]
     },
     "execution_count": 3,
     "metadata": {},
     "output_type": "execute_result"
    }
   ],
   "source": [
    "a[0:3]"
   ]
  },
  {
   "cell_type": "code",
   "execution_count": 4,
   "id": "ce3967dd-55fb-43f8-b682-ae06e3397778",
   "metadata": {},
   "outputs": [
    {
     "data": {
      "text/plain": [
       "array([20, 21, 22])"
      ]
     },
     "execution_count": 4,
     "metadata": {},
     "output_type": "execute_result"
    }
   ],
   "source": [
    "a[:3]"
   ]
  },
  {
   "cell_type": "code",
   "execution_count": 5,
   "id": "353a0de9-2f6b-4b11-9d09-cd51db90e075",
   "metadata": {},
   "outputs": [
    {
     "data": {
      "text/plain": [
       "array([23, 24, 25, 26, 27, 28, 29])"
      ]
     },
     "execution_count": 5,
     "metadata": {},
     "output_type": "execute_result"
    }
   ],
   "source": [
    "a[3:]"
   ]
  },
  {
   "cell_type": "code",
   "execution_count": 6,
   "id": "9197826c-6cb0-4c6a-9d44-69e38f92feb7",
   "metadata": {},
   "outputs": [
    {
     "data": {
      "text/plain": [
       "array([20, 22, 24, 26, 28])"
      ]
     },
     "execution_count": 6,
     "metadata": {},
     "output_type": "execute_result"
    }
   ],
   "source": [
    "a[0::2]"
   ]
  },
  {
   "cell_type": "code",
   "execution_count": 7,
   "id": "4d1447ca-d964-4936-bc9b-3c3e5db14dba",
   "metadata": {},
   "outputs": [
    {
     "data": {
      "text/plain": [
       "array([21, 23, 25, 27, 29])"
      ]
     },
     "execution_count": 7,
     "metadata": {},
     "output_type": "execute_result"
    }
   ],
   "source": [
    "a[1::2]"
   ]
  },
  {
   "cell_type": "code",
   "execution_count": 8,
   "id": "c8c92d5b-bd20-489a-a006-4e7cc7bce763",
   "metadata": {},
   "outputs": [
    {
     "data": {
      "text/plain": [
       "array([20, 23, 26, 29])"
      ]
     },
     "execution_count": 8,
     "metadata": {},
     "output_type": "execute_result"
    }
   ],
   "source": [
    "a[0::3]"
   ]
  },
  {
   "cell_type": "markdown",
   "id": "2c3236c2-d7a8-4b9e-a29a-4c56ee659e01",
   "metadata": {},
   "source": [
    "## İki boyutlu arraylerde slice islemleri"
   ]
  },
  {
   "cell_type": "code",
   "execution_count": 9,
   "id": "88f06ac7-70db-41c1-8fb0-243f0ac87f65",
   "metadata": {},
   "outputs": [],
   "source": [
    "m = np.random.randint(10, size=(5,5))"
   ]
  },
  {
   "cell_type": "code",
   "execution_count": 10,
   "id": "88d0ef94-22ff-44f0-bf7f-ad81f18304d9",
   "metadata": {},
   "outputs": [
    {
     "data": {
      "text/plain": [
       "array([[3, 5, 8, 5, 4],\n",
       "       [4, 7, 3, 6, 0],\n",
       "       [4, 6, 2, 5, 4],\n",
       "       [4, 9, 8, 7, 9],\n",
       "       [3, 0, 6, 5, 4]])"
      ]
     },
     "execution_count": 10,
     "metadata": {},
     "output_type": "execute_result"
    }
   ],
   "source": [
    "m"
   ]
  },
  {
   "cell_type": "code",
   "execution_count": 11,
   "id": "937ac18b-6428-4531-8913-53ff10e50b47",
   "metadata": {},
   "outputs": [
    {
     "data": {
      "text/plain": [
       "array([3, 4, 4, 4, 3])"
      ]
     },
     "execution_count": 11,
     "metadata": {},
     "output_type": "execute_result"
    }
   ],
   "source": [
    "m[:,0]"
   ]
  },
  {
   "cell_type": "code",
   "execution_count": 12,
   "id": "2346bbf5-ec74-4089-b878-82f7eaa8766a",
   "metadata": {},
   "outputs": [
    {
     "data": {
      "text/plain": [
       "array([5, 7, 6, 9, 0])"
      ]
     },
     "execution_count": 12,
     "metadata": {},
     "output_type": "execute_result"
    }
   ],
   "source": [
    "m[:,1]"
   ]
  },
  {
   "cell_type": "code",
   "execution_count": 13,
   "id": "713a47f6-f9fa-489c-be61-711e5bba4e49",
   "metadata": {},
   "outputs": [
    {
     "data": {
      "text/plain": [
       "array([4, 0, 4, 9, 4])"
      ]
     },
     "execution_count": 13,
     "metadata": {},
     "output_type": "execute_result"
    }
   ],
   "source": [
    "m[:,4]"
   ]
  },
  {
   "cell_type": "code",
   "execution_count": 14,
   "id": "34c0c93c-29b4-4d9b-be6a-54b41f09b3e4",
   "metadata": {},
   "outputs": [
    {
     "data": {
      "text/plain": [
       "array([3, 5, 8, 5, 4])"
      ]
     },
     "execution_count": 14,
     "metadata": {},
     "output_type": "execute_result"
    }
   ],
   "source": [
    "m[0,:]"
   ]
  },
  {
   "cell_type": "code",
   "execution_count": 15,
   "id": "4831a469-3964-48ee-befd-426de29a00f8",
   "metadata": {},
   "outputs": [
    {
     "data": {
      "text/plain": [
       "array([3, 5, 8, 5, 4])"
      ]
     },
     "execution_count": 15,
     "metadata": {},
     "output_type": "execute_result"
    }
   ],
   "source": [
    "m[0]"
   ]
  },
  {
   "cell_type": "code",
   "execution_count": 17,
   "id": "f4e9da2d-deb3-4c10-869a-cf0c85492901",
   "metadata": {},
   "outputs": [
    {
     "data": {
      "text/plain": [
       "array([4, 7, 3, 6, 0])"
      ]
     },
     "execution_count": 17,
     "metadata": {},
     "output_type": "execute_result"
    }
   ],
   "source": [
    "m[1,:]"
   ]
  },
  {
   "cell_type": "code",
   "execution_count": 18,
   "id": "65b3d81a-6f26-4fd2-84ea-73bbb17ddc03",
   "metadata": {},
   "outputs": [
    {
     "data": {
      "text/plain": [
       "array([[3, 5, 8, 5, 4],\n",
       "       [4, 7, 3, 6, 0],\n",
       "       [4, 6, 2, 5, 4],\n",
       "       [4, 9, 8, 7, 9],\n",
       "       [3, 0, 6, 5, 4]])"
      ]
     },
     "execution_count": 18,
     "metadata": {},
     "output_type": "execute_result"
    }
   ],
   "source": [
    "m"
   ]
  },
  {
   "cell_type": "code",
   "execution_count": 19,
   "id": "850410c8-7f06-41da-96ff-4bcf5625c510",
   "metadata": {},
   "outputs": [
    {
     "data": {
      "text/plain": [
       "array([[3, 5, 8],\n",
       "       [4, 7, 3]])"
      ]
     },
     "execution_count": 19,
     "metadata": {},
     "output_type": "execute_result"
    }
   ],
   "source": [
    "m[0:2, 0:3]"
   ]
  },
  {
   "cell_type": "code",
   "execution_count": 20,
   "id": "6641bd47-ca27-435a-9db2-941fbfe11cfc",
   "metadata": {},
   "outputs": [
    {
     "data": {
      "text/plain": [
       "array([[3, 5],\n",
       "       [4, 7],\n",
       "       [4, 6],\n",
       "       [4, 9],\n",
       "       [3, 0]])"
      ]
     },
     "execution_count": 20,
     "metadata": {},
     "output_type": "execute_result"
    }
   ],
   "source": [
    "m[::,:2]"
   ]
  },
  {
   "cell_type": "code",
   "execution_count": 21,
   "id": "0212e43b-75e4-4a03-98fb-cc77422c784b",
   "metadata": {},
   "outputs": [
    {
     "data": {
      "text/plain": [
       "array([[6, 0],\n",
       "       [5, 4],\n",
       "       [7, 9]])"
      ]
     },
     "execution_count": 21,
     "metadata": {},
     "output_type": "execute_result"
    }
   ],
   "source": [
    "m[1:4,3:]"
   ]
  },
  {
   "cell_type": "code",
   "execution_count": null,
   "id": "8b194ddd-8c8e-4eb8-adf4-fdba6f96d534",
   "metadata": {},
   "outputs": [],
   "source": []
  }
 ],
 "metadata": {
  "kernelspec": {
   "display_name": "Python 3 (ipykernel)",
   "language": "python",
   "name": "python3"
  },
  "language_info": {
   "codemirror_mode": {
    "name": "ipython",
    "version": 3
   },
   "file_extension": ".py",
   "mimetype": "text/x-python",
   "name": "python",
   "nbconvert_exporter": "python",
   "pygments_lexer": "ipython3",
   "version": "3.9.13"
  }
 },
 "nbformat": 4,
 "nbformat_minor": 5
}
