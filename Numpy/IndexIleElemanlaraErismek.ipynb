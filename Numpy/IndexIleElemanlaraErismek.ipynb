{
 "cells": [
  {
   "cell_type": "markdown",
   "id": "cb558379-65e8-46c5-aa37-c44429afe3b5",
   "metadata": {},
   "source": [
    "# Index ile Elemanlara Erişmek"
   ]
  },
  {
   "cell_type": "code",
   "execution_count": 2,
   "id": "621585f7-386f-44c5-94fb-ba983ad2a49e",
   "metadata": {},
   "outputs": [
    {
     "data": {
      "text/plain": [
       "array([3, 3, 8, 8, 3, 2, 9, 9, 8, 2])"
      ]
     },
     "execution_count": 2,
     "metadata": {},
     "output_type": "execute_result"
    }
   ],
   "source": [
    "import numpy as np\n",
    "a = np.random.randint(10, size=10)\n",
    "a"
   ]
  },
  {
   "cell_type": "code",
   "execution_count": 3,
   "id": "648a4ada-f7df-49d3-b0c0-45a2217c0889",
   "metadata": {},
   "outputs": [
    {
     "data": {
      "text/plain": [
       "8"
      ]
     },
     "execution_count": 3,
     "metadata": {},
     "output_type": "execute_result"
    }
   ],
   "source": [
    "a[3]"
   ]
  },
  {
   "cell_type": "code",
   "execution_count": 4,
   "id": "ed6d684b-3fbd-40a8-a482-31341ab79422",
   "metadata": {},
   "outputs": [
    {
     "data": {
      "text/plain": [
       "2"
      ]
     },
     "execution_count": 4,
     "metadata": {},
     "output_type": "execute_result"
    }
   ],
   "source": [
    "a[-1]"
   ]
  },
  {
   "cell_type": "code",
   "execution_count": 5,
   "id": "122e91c9-efad-4bf0-be4b-f9d9493e0b1f",
   "metadata": {},
   "outputs": [],
   "source": [
    "a[0] = 100"
   ]
  },
  {
   "cell_type": "code",
   "execution_count": 6,
   "id": "5704165b-0478-440a-91b9-8c48a701880e",
   "metadata": {},
   "outputs": [
    {
     "data": {
      "text/plain": [
       "array([100,   3,   8,   8,   3,   2,   9,   9,   8,   2])"
      ]
     },
     "execution_count": 6,
     "metadata": {},
     "output_type": "execute_result"
    }
   ],
   "source": [
    "a"
   ]
  },
  {
   "cell_type": "markdown",
   "id": "e68c67d9-ad36-4f20-91ee-40d918b77efb",
   "metadata": {},
   "source": [
    "## 2 Boyutlu Arraylerde Index ile Elemanlara Erişmek"
   ]
  },
  {
   "cell_type": "code",
   "execution_count": 7,
   "id": "038489aa-142c-426f-bbd5-30916304678c",
   "metadata": {},
   "outputs": [
    {
     "data": {
      "text/plain": [
       "array([[8, 5, 1, 1, 3],\n",
       "       [8, 4, 0, 4, 1],\n",
       "       [8, 0, 2, 5, 2]])"
      ]
     },
     "execution_count": 7,
     "metadata": {},
     "output_type": "execute_result"
    }
   ],
   "source": [
    "m = np.random.randint(10, size= (3,5))\n",
    "m"
   ]
  },
  {
   "cell_type": "code",
   "execution_count": 9,
   "id": "f1135afa-0ecb-4348-bf51-829bcb0a303b",
   "metadata": {},
   "outputs": [
    {
     "data": {
      "text/plain": [
       "5"
      ]
     },
     "execution_count": 9,
     "metadata": {},
     "output_type": "execute_result"
    }
   ],
   "source": [
    "m[2,3]"
   ]
  },
  {
   "cell_type": "code",
   "execution_count": 10,
   "id": "d3510a34-b549-470d-9e38-dd0486610f92",
   "metadata": {},
   "outputs": [],
   "source": [
    "m[1,4] = 999"
   ]
  },
  {
   "cell_type": "code",
   "execution_count": 11,
   "id": "de7fb1ab-254c-4ba1-8fe7-20bbab43069a",
   "metadata": {},
   "outputs": [
    {
     "data": {
      "text/plain": [
       "array([[  8,   5,   1,   1,   3],\n",
       "       [  8,   4,   0,   4, 999],\n",
       "       [  8,   0,   2,   5,   2]])"
      ]
     },
     "execution_count": 11,
     "metadata": {},
     "output_type": "execute_result"
    }
   ],
   "source": [
    "m"
   ]
  },
  {
   "cell_type": "code",
   "execution_count": 14,
   "id": "d0bbea0a-6c9a-4b7b-bf32-a2d0ffc21bd0",
   "metadata": {},
   "outputs": [],
   "source": [
    "m[0,0] = 1.9"
   ]
  },
  {
   "cell_type": "code",
   "execution_count": 15,
   "id": "eca1fc6f-4cab-483e-8412-279c1ab5fb0d",
   "metadata": {},
   "outputs": [
    {
     "data": {
      "text/plain": [
       "array([[  1,   5,   1,   1,   3],\n",
       "       [  8,   4,   0,   4, 999],\n",
       "       [  8,   0,   2,   5,   2]])"
      ]
     },
     "execution_count": 15,
     "metadata": {},
     "output_type": "execute_result"
    }
   ],
   "source": [
    "m"
   ]
  },
  {
   "cell_type": "code",
   "execution_count": null,
   "id": "f3e1f0b8-611a-47e4-b38a-2fdb6c75ddda",
   "metadata": {},
   "outputs": [],
   "source": []
  }
 ],
 "metadata": {
  "kernelspec": {
   "display_name": "Python 3 (ipykernel)",
   "language": "python",
   "name": "python3"
  },
  "language_info": {
   "codemirror_mode": {
    "name": "ipython",
    "version": 3
   },
   "file_extension": ".py",
   "mimetype": "text/x-python",
   "name": "python",
   "nbconvert_exporter": "python",
   "pygments_lexer": "ipython3",
   "version": "3.9.13"
  }
 },
 "nbformat": 4,
 "nbformat_minor": 5
}
