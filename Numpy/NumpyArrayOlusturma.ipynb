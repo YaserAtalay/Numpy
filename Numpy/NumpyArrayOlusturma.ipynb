{
 "cells": [
  {
   "cell_type": "markdown",
   "id": "ae581b11-6c2c-4f02-877d-93b563723654",
   "metadata": {},
   "source": [
    "# Numpy Array'i Oluşturmak"
   ]
  },
  {
   "cell_type": "code",
   "execution_count": 2,
   "id": "4141222a-5fa5-4848-b32d-3caded1e622b",
   "metadata": {},
   "outputs": [],
   "source": [
    "import numpy as np"
   ]
  },
  {
   "cell_type": "code",
   "execution_count": 3,
   "id": "571853a0-e647-4324-acc1-b5c50fedcc4a",
   "metadata": {},
   "outputs": [
    {
     "data": {
      "text/plain": [
       "array([1, 2, 3, 4, 5])"
      ]
     },
     "execution_count": 3,
     "metadata": {},
     "output_type": "execute_result"
    }
   ],
   "source": [
    "np.array([1,2,3,4,5])"
   ]
  },
  {
   "cell_type": "code",
   "execution_count": 5,
   "id": "7dced3f2-81f7-427a-bd65-287409b6b81a",
   "metadata": {},
   "outputs": [],
   "source": [
    "a = np.array([1,2,3,4,5])"
   ]
  },
  {
   "cell_type": "code",
   "execution_count": 6,
   "id": "056f4aa9-7360-4bd3-b656-ca5c5b09189a",
   "metadata": {},
   "outputs": [
    {
     "data": {
      "text/plain": [
       "numpy.ndarray"
      ]
     },
     "execution_count": 6,
     "metadata": {},
     "output_type": "execute_result"
    }
   ],
   "source": [
    "type(a)"
   ]
  },
  {
   "cell_type": "code",
   "execution_count": 7,
   "id": "e2d63cde-1df1-49e1-bc9e-6eb640b31b66",
   "metadata": {},
   "outputs": [
    {
     "data": {
      "text/plain": [
       "array([3.14, 5.9 , 5.  , 6.  , 8.  , 9.  ])"
      ]
     },
     "execution_count": 7,
     "metadata": {},
     "output_type": "execute_result"
    }
   ],
   "source": [
    "np.array([3.14,5.9,5,6,8,9])"
   ]
  },
  {
   "cell_type": "code",
   "execution_count": 8,
   "id": "ed57a6fa-36ef-4e0d-b90e-18964e617048",
   "metadata": {},
   "outputs": [
    {
     "data": {
      "text/plain": [
       "array([3, 5, 5, 6, 8, 9])"
      ]
     },
     "execution_count": 8,
     "metadata": {},
     "output_type": "execute_result"
    }
   ],
   "source": [
    "np.array([3.14,5.9,5,6,8,9], dtype = \"int\")"
   ]
  },
  {
   "cell_type": "markdown",
   "id": "5c3cca1f-1bdb-4304-a24b-d63ec7cb66df",
   "metadata": {},
   "source": [
    "**Sifirdan array olusturma**"
   ]
  },
  {
   "cell_type": "code",
   "execution_count": 11,
   "id": "dfb8ec7e-edd7-4c03-8085-76cd1d7c4f8e",
   "metadata": {},
   "outputs": [
    {
     "data": {
      "text/plain": [
       "array([0, 0, 0, 0, 0, 0, 0, 0, 0, 0])"
      ]
     },
     "execution_count": 11,
     "metadata": {},
     "output_type": "execute_result"
    }
   ],
   "source": [
    "np.zeros(10, dtype = \"int\")"
   ]
  },
  {
   "cell_type": "code",
   "execution_count": 13,
   "id": "a199231c-bb59-46cd-a4d4-d2b9b96e38cf",
   "metadata": {},
   "outputs": [
    {
     "data": {
      "text/plain": [
       "array([[1, 1, 1, 1, 1],\n",
       "       [1, 1, 1, 1, 1],\n",
       "       [1, 1, 1, 1, 1]])"
      ]
     },
     "execution_count": 13,
     "metadata": {},
     "output_type": "execute_result"
    }
   ],
   "source": [
    "np.ones((3,5), dtype = \"int\")"
   ]
  },
  {
   "cell_type": "code",
   "execution_count": 14,
   "id": "d497be3b-dfa8-4639-a25f-ca83c14fd2ad",
   "metadata": {},
   "outputs": [
    {
     "data": {
      "text/plain": [
       "array([[4, 4, 4, 4, 4],\n",
       "       [4, 4, 4, 4, 4],\n",
       "       [4, 4, 4, 4, 4]])"
      ]
     },
     "execution_count": 14,
     "metadata": {},
     "output_type": "execute_result"
    }
   ],
   "source": [
    "np.full((3,5),4)"
   ]
  },
  {
   "cell_type": "code",
   "execution_count": 15,
   "id": "ee7f5597-31bd-428c-8301-9e1758328505",
   "metadata": {},
   "outputs": [
    {
     "data": {
      "text/plain": [
       "array([ 0,  3,  6,  9, 12, 15, 18, 21, 24, 27, 30])"
      ]
     },
     "execution_count": 15,
     "metadata": {},
     "output_type": "execute_result"
    }
   ],
   "source": [
    "np.arange(0,31,3)"
   ]
  },
  {
   "cell_type": "code",
   "execution_count": 16,
   "id": "b08c94ec-8a17-43a3-8bd2-a6edf8ff9f22",
   "metadata": {},
   "outputs": [
    {
     "data": {
      "text/plain": [
       "array([0.        , 0.11111111, 0.22222222, 0.33333333, 0.44444444,\n",
       "       0.55555556, 0.66666667, 0.77777778, 0.88888889, 1.        ])"
      ]
     },
     "execution_count": 16,
     "metadata": {},
     "output_type": "execute_result"
    }
   ],
   "source": [
    "np.linspace(0,1,10)"
   ]
  },
  {
   "cell_type": "code",
   "execution_count": 17,
   "id": "44341938-1e8e-4d25-8544-26b8699340e0",
   "metadata": {},
   "outputs": [
    {
     "data": {
      "text/plain": [
       "array([[ 9.01148687, 12.76412876,  9.56781072, 12.2877581 ],\n",
       "       [ 9.27187218, 10.1057649 , 14.26408294, 10.56070402],\n",
       "       [17.30060549,  9.67639709,  1.68719906,  1.18397222]])"
      ]
     },
     "execution_count": 17,
     "metadata": {},
     "output_type": "execute_result"
    }
   ],
   "source": [
    "np.random.normal(10,4,(3,4))"
   ]
  },
  {
   "cell_type": "code",
   "execution_count": 18,
   "id": "a46d761d-f86c-4068-a8a2-77e3bf1d2ed6",
   "metadata": {},
   "outputs": [
    {
     "data": {
      "text/plain": [
       "array([[0, 9, 9],\n",
       "       [3, 5, 3],\n",
       "       [9, 6, 6]])"
      ]
     },
     "execution_count": 18,
     "metadata": {},
     "output_type": "execute_result"
    }
   ],
   "source": [
    "np.random.randint(0,10,(3,3))"
   ]
  },
  {
   "cell_type": "code",
   "execution_count": null,
   "id": "9651f991-ccec-4a2a-adab-358c97e6bffa",
   "metadata": {},
   "outputs": [],
   "source": []
  }
 ],
 "metadata": {
  "kernelspec": {
   "display_name": "Python 3 (ipykernel)",
   "language": "python",
   "name": "python3"
  },
  "language_info": {
   "codemirror_mode": {
    "name": "ipython",
    "version": 3
   },
   "file_extension": ".py",
   "mimetype": "text/x-python",
   "name": "python",
   "nbconvert_exporter": "python",
   "pygments_lexer": "ipython3",
   "version": "3.9.13"
  }
 },
 "nbformat": 4,
 "nbformat_minor": 5
}
